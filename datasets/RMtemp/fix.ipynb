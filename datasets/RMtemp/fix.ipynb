{
 "cells": [
  {
   "cell_type": "code",
   "execution_count": 17,
   "metadata": {},
   "outputs": [],
   "source": [
    "import pandas as pd"
   ]
  },
  {
   "cell_type": "code",
   "execution_count": 18,
   "metadata": {},
   "outputs": [],
   "source": [
    "dataset = pd.read_csv('Bld_64_DDC_1.1_Rm_Temp_1.csv',header=0,encoding = 'unicode_escape')\n",
    "dataset.to_csv(\"RM/rm1.csv\",index=False)"
   ]
  },
  {
   "cell_type": "code",
   "execution_count": 21,
   "metadata": {},
   "outputs": [],
   "source": [
    "dataset = pd.read_csv('Bld_64_DDC_1.1_Rm_Temp_2.csv',header=0,encoding = 'unicode_escape')\n",
    "dataset.to_csv(\"RM/rm2.csv\",index=False)"
   ]
  },
  {
   "cell_type": "code",
   "execution_count": 22,
   "metadata": {},
   "outputs": [],
   "source": [
    "dataset = pd.read_csv('Bld_64_DDC_1.1_Rm_Temp_3.csv',header=0,encoding = 'unicode_escape')\n",
    "dataset.to_csv(\"RM/rm3.csv\",index=False)"
   ]
  },
  {
   "cell_type": "code",
   "execution_count": 23,
   "metadata": {},
   "outputs": [],
   "source": [
    "dataset = pd.read_csv('Bld_64_DDC_1.1_Rm_Temp_4.csv',header=0,encoding = 'unicode_escape')\n",
    "dataset.to_csv(\"RM/rm4.csv\",index=False)"
   ]
  },
  {
   "cell_type": "code",
   "execution_count": 24,
   "metadata": {},
   "outputs": [],
   "source": [
    "dataset = pd.read_csv('Bld_64_DDC_1.1_Rm_Temp_5.csv',header=0,encoding = 'unicode_escape')\n",
    "dataset.to_csv(\"RM/rm5.csv\",index=False)"
   ]
  },
  {
   "cell_type": "code",
   "execution_count": 25,
   "metadata": {},
   "outputs": [],
   "source": [
    "dataset = pd.read_csv('Bld_64_DDC_1.1_Rm_Temp_6.csv',header=0,encoding = 'unicode_escape')\n",
    "dataset.to_csv(\"RM/rm6.csv\",index=False)"
   ]
  },
  {
   "cell_type": "code",
   "execution_count": 26,
   "metadata": {},
   "outputs": [],
   "source": [
    "dataset = pd.read_csv('Bld_64_DDC_1.1_Rm_Temp_7.csv',header=0,encoding = 'unicode_escape')\n",
    "dataset.to_csv(\"RM/rm7.csv\",index=False)"
   ]
  },
  {
   "cell_type": "code",
   "execution_count": 27,
   "metadata": {},
   "outputs": [],
   "source": [
    "dataset = pd.read_csv('Bld_64_DDC_1.1_Rm_Temp_8.csv',header=0,encoding = 'unicode_escape')\n",
    "dataset.to_csv(\"RM/rm8.csv\",index=False)"
   ]
  },
  {
   "cell_type": "code",
   "execution_count": 28,
   "metadata": {},
   "outputs": [],
   "source": [
    "dataset = pd.read_csv('Bld_64_DDC_1.1_Rm_Temp_9.csv',header=0,encoding = 'unicode_escape')\n",
    "dataset.to_csv(\"RM/rm9.csv\",index=False)"
   ]
  },
  {
   "cell_type": "code",
   "execution_count": 29,
   "metadata": {},
   "outputs": [],
   "source": [
    "dataset = pd.read_csv('Bld_64_DDC_1.1_Rm_Temp_10.csv',header=0,encoding = 'unicode_escape')\n",
    "dataset.to_csv(\"RM/rm10.csv\",index=False)"
   ]
  },
  {
   "cell_type": "code",
   "execution_count": 30,
   "metadata": {},
   "outputs": [],
   "source": [
    "dataset = pd.read_csv('Bld_64_DDC_1.1_Rm_Temp_11.csv',header=0,encoding = 'unicode_escape')\n",
    "dataset.to_csv(\"RM/rm11.csv\",index=False)"
   ]
  },
  {
   "cell_type": "code",
   "execution_count": null,
   "metadata": {},
   "outputs": [],
   "source": []
  }
 ],
 "metadata": {
  "kernelspec": {
   "display_name": "Python 3",
   "language": "python",
   "name": "python3"
  },
  "language_info": {
   "codemirror_mode": {
    "name": "ipython",
    "version": 3
   },
   "file_extension": ".py",
   "mimetype": "text/x-python",
   "name": "python",
   "nbconvert_exporter": "python",
   "pygments_lexer": "ipython3",
   "version": "3.7.3"
  }
 },
 "nbformat": 4,
 "nbformat_minor": 2
}
