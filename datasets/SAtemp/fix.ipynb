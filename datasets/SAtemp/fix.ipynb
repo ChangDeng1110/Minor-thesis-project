{
 "cells": [
  {
   "cell_type": "code",
   "execution_count": 1,
   "metadata": {},
   "outputs": [],
   "source": [
    "import pandas as pd"
   ]
  },
  {
   "cell_type": "code",
   "execution_count": 2,
   "metadata": {},
   "outputs": [],
   "source": [
    "dataset = pd.read_csv('Bld_64_DDC_1.1_S.Air_Temp_1.csv',header=0,encoding = 'unicode_escape')\n",
    "dataset.to_csv(\"SA/sa1.csv\",index=False)"
   ]
  },
  {
   "cell_type": "code",
   "execution_count": 3,
   "metadata": {},
   "outputs": [],
   "source": [
    "dataset = pd.read_csv('Bld_64_DDC_1.1_S.Air_Temp_2.csv',header=0,encoding = 'unicode_escape')\n",
    "dataset.to_csv(\"SA/sa2.csv\",index=False)"
   ]
  },
  {
   "cell_type": "code",
   "execution_count": 4,
   "metadata": {},
   "outputs": [],
   "source": [
    "dataset = pd.read_csv('Bld_64_DDC_1.1_S.Air_Temp_3.csv',header=0,encoding = 'unicode_escape')\n",
    "dataset.to_csv(\"SA/sa3.csv\",index=False)"
   ]
  },
  {
   "cell_type": "code",
   "execution_count": 6,
   "metadata": {},
   "outputs": [],
   "source": [
    "dataset = pd.read_csv('Bld_64_DDC_1.1_S.Air_Temp_4.csv',header=0,encoding = 'unicode_escape')\n",
    "dataset.to_csv(\"SA/sa4.csv\",index=False)"
   ]
  },
  {
   "cell_type": "code",
   "execution_count": 7,
   "metadata": {},
   "outputs": [],
   "source": [
    "dataset = pd.read_csv('Bld_64_DDC_1.1_S.Air_Temp_5.csv',header=0,encoding = 'unicode_escape')\n",
    "dataset.to_csv(\"SA/sa5.csv\",index=False)"
   ]
  },
  {
   "cell_type": "code",
   "execution_count": 8,
   "metadata": {},
   "outputs": [],
   "source": [
    "dataset = pd.read_csv('Bld_64_DDC_1.1_S.Air_Temp_6.csv',header=0,encoding = 'unicode_escape')\n",
    "dataset.to_csv(\"SA/sa6.csv\",index=False)"
   ]
  },
  {
   "cell_type": "code",
   "execution_count": 9,
   "metadata": {},
   "outputs": [],
   "source": [
    "dataset = pd.read_csv('Bld_64_DDC_1.1_S.Air_Temp_7.csv',header=0,encoding = 'unicode_escape')\n",
    "dataset.to_csv(\"SA/sa7.csv\",index=False)"
   ]
  },
  {
   "cell_type": "code",
   "execution_count": 10,
   "metadata": {},
   "outputs": [],
   "source": [
    "dataset = pd.read_csv('Bld_64_DDC_1.1_S.Air_Temp_8.csv',header=0,encoding = 'unicode_escape')\n",
    "dataset.to_csv(\"SA/sa8.csv\",index=False)"
   ]
  },
  {
   "cell_type": "code",
   "execution_count": 11,
   "metadata": {},
   "outputs": [],
   "source": [
    "dataset = pd.read_csv('Bld_64_DDC_1.1_S.Air_Temp_9.csv',header=0,encoding = 'unicode_escape')\n",
    "dataset.to_csv(\"SA/sa9.csv\",index=False)"
   ]
  },
  {
   "cell_type": "code",
   "execution_count": 12,
   "metadata": {},
   "outputs": [],
   "source": [
    "dataset = pd.read_csv('Bld_64_DDC_1.1_S.Air_Temp_10.csv',header=0,encoding = 'unicode_escape')\n",
    "dataset.to_csv(\"SA/sa10.csv\",index=False)"
   ]
  },
  {
   "cell_type": "code",
   "execution_count": 13,
   "metadata": {},
   "outputs": [],
   "source": [
    "dataset = pd.read_csv('Bld_64_DDC_1.1_S.Air_Temp_11.csv',header=0,encoding = 'unicode_escape')\n",
    "dataset.to_csv(\"SA/sa11.csv\",index=False)"
   ]
  },
  {
   "cell_type": "code",
   "execution_count": null,
   "metadata": {},
   "outputs": [],
   "source": []
  }
 ],
 "metadata": {
  "kernelspec": {
   "display_name": "Python 3",
   "language": "python",
   "name": "python3"
  },
  "language_info": {
   "codemirror_mode": {
    "name": "ipython",
    "version": 3
   },
   "file_extension": ".py",
   "mimetype": "text/x-python",
   "name": "python",
   "nbconvert_exporter": "python",
   "pygments_lexer": "ipython3",
   "version": "3.7.3"
  }
 },
 "nbformat": 4,
 "nbformat_minor": 2
}
